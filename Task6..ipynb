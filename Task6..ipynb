{
 "cells": [
  {
   "cell_type": "code",
   "execution_count": 1,
   "id": "c953fe5a",
   "metadata": {},
   "outputs": [],
   "source": [
    "import pandas as pd"
   ]
  },
  {
   "cell_type": "code",
   "execution_count": 2,
   "id": "f86de4c2",
   "metadata": {},
   "outputs": [],
   "source": [
    "path=r'D:\\smoke_detection_iot.csv'"
   ]
  },
  {
   "cell_type": "code",
   "execution_count": 3,
   "id": "2066cc6f",
   "metadata": {
    "scrolled": true
   },
   "outputs": [
    {
     "name": "stdout",
     "output_type": "stream",
     "text": [
      "                                                column1      column2  \\\n",
      "num   UTC        Temperature Humidity TVOC eCO2  Raw_H2  Raw_Ethanol   \n",
      "0     1654733331 20          57.36    0    400    12306        18520   \n",
      "1     1654733332 20.015      56.67    0    400    12345        18651   \n",
      "2     1654733333 20.029      55.96    0    400    12374        18764   \n",
      "3     1654733334 20.044      55.28    0    400    12390        18849   \n",
      "...                                                 ...          ...   \n",
      "62625 1655130047 18.438      15.79    625  400    13723        20569   \n",
      "62626 1655130048 18.653      15.87    612  400    13731        20588   \n",
      "62627 1655130049 18.867      15.84    627  400    13725        20582   \n",
      "62628 1655130050 19.083      16.04    638  400    13712        20566   \n",
      "62629 1655130051 19.299      16.52    643  400    13696        20543   \n",
      "\n",
      "                                                  column3 column4 column5  \\\n",
      "num   UTC        Temperature Humidity TVOC eCO2  Pressure     PM1     PM2   \n",
      "0     1654733331 20          57.36    0    400    939.735       0       0   \n",
      "1     1654733332 20.015      56.67    0    400    939.744       0       0   \n",
      "2     1654733333 20.029      55.96    0    400    939.738       0       0   \n",
      "3     1654733334 20.044      55.28    0    400    939.736       0       0   \n",
      "...                                                   ...     ...     ...   \n",
      "62625 1655130047 18.438      15.79    625  400     936.67    0.63    0.65   \n",
      "62626 1655130048 18.653      15.87    612  400    936.678    0.61    0.63   \n",
      "62627 1655130049 18.867      15.84    627  400    936.687    0.57     0.6   \n",
      "62628 1655130050 19.083      16.04    638  400     936.68    0.57    0.59   \n",
      "62629 1655130051 19.299      16.52    643  400    936.676    0.57    0.59   \n",
      "\n",
      "                                                column6 column7 column8  \\\n",
      "num   UTC        Temperature Humidity TVOC eCO2     NC0     NC1     NC2   \n",
      "0     1654733331 20          57.36    0    400        0       0       0   \n",
      "1     1654733332 20.015      56.67    0    400        0       0       0   \n",
      "2     1654733333 20.029      55.96    0    400        0       0       0   \n",
      "3     1654733334 20.044      55.28    0    400        0       0       0   \n",
      "...                                                 ...     ...     ...   \n",
      "62625 1655130047 18.438      15.79    625  400     4.32   0.673   0.015   \n",
      "62626 1655130048 18.653      15.87    612  400     4.18   0.652   0.015   \n",
      "62627 1655130049 18.867      15.84    627  400     3.95   0.617   0.014   \n",
      "62628 1655130050 19.083      16.04    638  400     3.92   0.611   0.014   \n",
      "62629 1655130051 19.299      16.52    643  400      3.9   0.607   0.014   \n",
      "\n",
      "                                                column9    column10  \n",
      "num   UTC        Temperature Humidity TVOC eCO2     CNT  Fire_Alarm  \n",
      "0     1654733331 20          57.36    0    400        0           0  \n",
      "1     1654733332 20.015      56.67    0    400        1           0  \n",
      "2     1654733333 20.029      55.96    0    400        2           0  \n",
      "3     1654733334 20.044      55.28    0    400        3           0  \n",
      "...                                                 ...         ...  \n",
      "62625 1655130047 18.438      15.79    625  400     5739           0  \n",
      "62626 1655130048 18.653      15.87    612  400     5740           0  \n",
      "62627 1655130049 18.867      15.84    627  400     5741           0  \n",
      "62628 1655130050 19.083      16.04    638  400     5742           0  \n",
      "62629 1655130051 19.299      16.52    643  400     5743           0  \n",
      "\n",
      "[62631 rows x 10 columns]\n"
     ]
    },
    {
     "name": "stderr",
     "output_type": "stream",
     "text": [
      "C:\\Users\\DELL\\AppData\\Local\\Temp\\ipykernel_1448\\3254034638.py:1: DtypeWarning: Columns (0,1,2,3,4,5,6,7,8,9,10,11,12,13,14,15) have mixed types. Specify dtype option on import or set low_memory=False.\n",
      "  data=pd.read_csv(path,header=None,names=[\"column1\",\"column2\",\"column3\",\"column4\",\"column5\",\"column6\",\"column7\",\"column8\",\"column9\",\"column10\"])\n"
     ]
    }
   ],
   "source": [
    "data=pd.read_csv(path,header=None,names=[\"column1\",\"column2\",\"column3\",\"column4\",\"column5\",\"column6\",\"column7\",\"column8\",\"column9\",\"column10\"])\n",
    "print(data)"
   ]
  },
  {
   "cell_type": "code",
   "execution_count": 4,
   "id": "c454193e",
   "metadata": {},
   "outputs": [
    {
     "name": "stdout",
     "output_type": "stream",
     "text": [
      "Number of features: 16\n"
     ]
    }
   ],
   "source": [
    "#df=pd.read_csv(path)\n",
    "#num_features = df.shape[1]\n",
    "#print(\"Number of features:\", num_features)"
   ]
  },
  {
   "cell_type": "code",
   "execution_count": 5,
   "id": "da13efca",
   "metadata": {},
   "outputs": [
    {
     "name": "stdout",
     "output_type": "stream",
     "text": [
      "the data number is: 26\n"
     ]
    }
   ],
   "source": [
    "#num_data=len(path)\n",
    "#print(\"the data number is:\",num_data)"
   ]
  },
  {
   "cell_type": "code",
   "execution_count": 6,
   "id": "e8a71770",
   "metadata": {},
   "outputs": [
    {
     "name": "stdout",
     "output_type": "stream",
     "text": [
      "Number of rows: 62630\n",
      "Number of columns: 16\n"
     ]
    }
   ],
   "source": [
    "df=pd.read_csv(path)\n",
    "num_rows, num_cols = df.shape\n",
    "print('Number of rows:', num_rows)\n",
    "print('Number of columns:', num_cols)"
   ]
  },
  {
   "cell_type": "code",
   "execution_count": 7,
   "id": "642bd3ae",
   "metadata": {},
   "outputs": [
    {
     "name": "stdout",
     "output_type": "stream",
     "text": [
      "         num  Temperature  Humidity  TVOC  eCO2  Raw_H2  Raw_Ethanol  \\\n",
      "0          0       20.000     57.36     0   400   12306        18520   \n",
      "1          1       20.015     56.67     0   400   12345        18651   \n",
      "2          2       20.029     55.96     0   400   12374        18764   \n",
      "3          3       20.044     55.28     0   400   12390        18849   \n",
      "4          4       20.059     54.69     0   400   12403        18921   \n",
      "...      ...          ...       ...   ...   ...     ...          ...   \n",
      "62625  62625       18.438     15.79   625   400   13723        20569   \n",
      "62626  62626       18.653     15.87   612   400   13731        20588   \n",
      "62627  62627       18.867     15.84   627   400   13725        20582   \n",
      "62628  62628       19.083     16.04   638   400   13712        20566   \n",
      "62629  62629       19.299     16.52   643   400   13696        20543   \n",
      "\n",
      "       Pressure   PM1   PM2   NC0    NC1    NC2   CNT  Fire_Alarm  \n",
      "0       939.735  0.00  0.00  0.00  0.000  0.000     0           0  \n",
      "1       939.744  0.00  0.00  0.00  0.000  0.000     1           0  \n",
      "2       939.738  0.00  0.00  0.00  0.000  0.000     2           0  \n",
      "3       939.736  0.00  0.00  0.00  0.000  0.000     3           0  \n",
      "4       939.744  0.00  0.00  0.00  0.000  0.000     4           0  \n",
      "...         ...   ...   ...   ...    ...    ...   ...         ...  \n",
      "62625   936.670  0.63  0.65  4.32  0.673  0.015  5739           0  \n",
      "62626   936.678  0.61  0.63  4.18  0.652  0.015  5740           0  \n",
      "62627   936.687  0.57  0.60  3.95  0.617  0.014  5741           0  \n",
      "62628   936.680  0.57  0.59  3.92  0.611  0.014  5742           0  \n",
      "62629   936.676  0.57  0.59  3.90  0.607  0.014  5743           0  \n",
      "\n",
      "[62630 rows x 15 columns]\n"
     ]
    }
   ],
   "source": [
    "df=pd.read_csv(path)\n",
    "df=df.drop(['UTC'], axis=1)\n",
    "print(df)"
   ]
  },
  {
   "cell_type": "code",
   "execution_count": null,
   "id": "5627a677",
   "metadata": {},
   "outputs": [],
   "source": []
  }
 ],
 "metadata": {
  "kernelspec": {
   "display_name": "Python 3 (ipykernel)",
   "language": "python",
   "name": "python3"
  },
  "language_info": {
   "codemirror_mode": {
    "name": "ipython",
    "version": 3
   },
   "file_extension": ".py",
   "mimetype": "text/x-python",
   "name": "python",
   "nbconvert_exporter": "python",
   "pygments_lexer": "ipython3",
   "version": "3.10.9"
  }
 },
 "nbformat": 4,
 "nbformat_minor": 5
}
